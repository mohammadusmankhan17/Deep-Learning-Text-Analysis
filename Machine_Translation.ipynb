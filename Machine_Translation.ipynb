{
  "nbformat": 4,
  "nbformat_minor": 0,
  "metadata": {
    "colab": {
      "name": "Machine Translation.ipynb",
      "provenance": []
    },
    "kernelspec": {
      "name": "python3",
      "display_name": "Python 3"
    },
    "language_info": {
      "name": "python"
    },
    "accelerator": "GPU"
  },
  "cells": [
    {
      "cell_type": "code",
      "metadata": {
        "colab": {
          "base_uri": "https://localhost:8080/"
        },
        "id": "A0e2pEJQ00rH",
        "outputId": "c3054ad1-fb8d-4960-c55f-e94bf3f2bc28"
      },
      "source": [
        "!wget http://storage.googleapis.com/download.tensorflow.org/data/spa-eng.zip\n",
        "!unzip -q spa-eng.zip"
      ],
      "execution_count": 1,
      "outputs": [
        {
          "output_type": "stream",
          "name": "stdout",
          "text": [
            "--2021-10-03 06:32:04--  http://storage.googleapis.com/download.tensorflow.org/data/spa-eng.zip\n",
            "Resolving storage.googleapis.com (storage.googleapis.com)... 142.250.125.128, 142.250.136.128, 142.250.148.128, ...\n",
            "Connecting to storage.googleapis.com (storage.googleapis.com)|142.250.125.128|:80... connected.\n",
            "HTTP request sent, awaiting response... 200 OK\n",
            "Length: 2638744 (2.5M) [application/zip]\n",
            "Saving to: ‘spa-eng.zip’\n",
            "\n",
            "\rspa-eng.zip           0%[                    ]       0  --.-KB/s               \rspa-eng.zip         100%[===================>]   2.52M  --.-KB/s    in 0.02s   \n",
            "\n",
            "2021-10-03 06:32:04 (145 MB/s) - ‘spa-eng.zip’ saved [2638744/2638744]\n",
            "\n"
          ]
        }
      ]
    },
    {
      "cell_type": "code",
      "metadata": {
        "id": "U0y3rSzW2deq"
      },
      "source": [
        "text_file = \"spa-eng/spa.txt\"\n",
        "with open(text_file) as f:\n",
        "    lines = f.read().split(\"\\n\")[:-1]\n",
        "text_pairs = []\n",
        "for line in lines:\n",
        "    english, spanish = line.split(\"\\t\")\n",
        "    spanish = \"[start] \" + spanish + \" [end]\"\n",
        "    text_pairs.append((english, spanish))"
      ],
      "execution_count": 2,
      "outputs": []
    },
    {
      "cell_type": "code",
      "metadata": {
        "colab": {
          "base_uri": "https://localhost:8080/"
        },
        "id": "ZGsegYwZ2i84",
        "outputId": "50618569-aa92-47a2-f349-e0bd3fbe1dd2"
      },
      "source": [
        "import random\n",
        "print(random.choice(text_pairs))"
      ],
      "execution_count": 3,
      "outputs": [
        {
          "output_type": "stream",
          "name": "stdout",
          "text": [
            "('Let me leave!', '[start] ¡Déjame salir! [end]')\n"
          ]
        }
      ]
    },
    {
      "cell_type": "code",
      "metadata": {
        "id": "miQXcVPL2nqI"
      },
      "source": [
        "import random\n",
        "random.shuffle(text_pairs)\n",
        "num_val_samples = int(0.15 * len(text_pairs))\n",
        "num_train_samples = len(text_pairs) - 2 * num_val_samples\n",
        "train_pairs = text_pairs[:num_train_samples]\n",
        "val_pairs = text_pairs[num_train_samples:num_train_samples + num_val_samples]\n",
        "test_pairs = text_pairs[num_train_samples + num_val_samples:]"
      ],
      "execution_count": 4,
      "outputs": []
    },
    {
      "cell_type": "code",
      "metadata": {
        "id": "jL5abjea2rw9"
      },
      "source": [
        "import tensorflow as tf\n",
        "import string\n",
        "import re\n",
        "from tensorflow import keras\n",
        "strip_chars = string.punctuation + \"¿\"\n",
        "strip_chars = strip_chars.replace(\"[\", \"\")\n",
        "strip_chars = strip_chars.replace(\"]\", \"\")\n",
        "\n",
        "def custom_standardization(input_string):\n",
        "    lowercase = tf.strings.lower(input_string)\n",
        "    return tf.strings.regex_replace(\n",
        "        lowercase, f\"[{re.escape(strip_chars)}]\", \"\")\n",
        "\n",
        "vocab_size = 15000\n",
        "sequence_length = 20\n",
        "\n",
        "source_vectorization = keras.layers.TextVectorization(\n",
        "    max_tokens=vocab_size,\n",
        "    output_mode=\"int\",\n",
        "    output_sequence_length=sequence_length,\n",
        ")\n",
        "target_vectorization = keras.layers.TextVectorization(\n",
        "    max_tokens=vocab_size,\n",
        "    output_mode=\"int\",\n",
        "    output_sequence_length=sequence_length + 1,\n",
        "    standardize=custom_standardization,\n",
        ")\n",
        "train_english_texts = [pair[0] for pair in train_pairs]\n",
        "train_spanish_texts = [pair[1] for pair in train_pairs]\n",
        "source_vectorization.adapt(train_english_texts)\n",
        "target_vectorization.adapt(train_spanish_texts)"
      ],
      "execution_count": 9,
      "outputs": []
    },
    {
      "cell_type": "code",
      "metadata": {
        "id": "b9E32nFr2vBw"
      },
      "source": [
        "batch_size = 64\n",
        "\n",
        "def format_dataset(eng, spa):\n",
        "    eng = source_vectorization(eng)\n",
        "    spa = target_vectorization(spa)\n",
        "    return ({\n",
        "        \"english\": eng,\n",
        "        \"spanish\": spa[:, :-1],\n",
        "    }, spa[:, 1:])\n",
        "\n",
        "def make_dataset(pairs):\n",
        "    eng_texts, spa_texts = zip(*pairs)\n",
        "    eng_texts = list(eng_texts)\n",
        "    spa_texts = list(spa_texts)\n",
        "    dataset = tf.data.Dataset.from_tensor_slices((eng_texts, spa_texts))\n",
        "    dataset = dataset.batch(batch_size)\n",
        "    dataset = dataset.map(format_dataset, num_parallel_calls=4)\n",
        "    return dataset.shuffle(2048).prefetch(16).cache()\n",
        "\n",
        "train_ds = make_dataset(train_pairs)\n",
        "val_ds = make_dataset(val_pairs)"
      ],
      "execution_count": 10,
      "outputs": []
    },
    {
      "cell_type": "code",
      "metadata": {
        "colab": {
          "base_uri": "https://localhost:8080/"
        },
        "id": "ytf2oJLt3Cti",
        "outputId": "13ce7264-0cd1-403e-c3f5-dc1814f49fd0"
      },
      "source": [
        "for inputs, targets in train_ds.take(1):\n",
        "    print(f\"inputs['english'].shape: {inputs['english'].shape}\")\n",
        "    print(f\"inputs['spanish'].shape: {inputs['spanish'].shape}\")\n",
        "    print(f\"targets.shape: {targets.shape}\")"
      ],
      "execution_count": 11,
      "outputs": [
        {
          "output_type": "stream",
          "name": "stdout",
          "text": [
            "inputs['english'].shape: (64, 20)\n",
            "inputs['spanish'].shape: (64, 20)\n",
            "targets.shape: (64, 20)\n"
          ]
        }
      ]
    },
    {
      "cell_type": "code",
      "metadata": {
        "id": "ZGdypfnq38l6"
      },
      "source": [
        "from tensorflow import keras\n",
        "from tensorflow.keras import layers\n",
        "\n",
        "embed_dim = 256\n",
        "latent_dim = 1024\n",
        "\n",
        "source = keras.Input(shape=(None,), dtype=\"int64\", name=\"english\")\n",
        "x = layers.Embedding(vocab_size, embed_dim, mask_zero=True)(source)\n",
        "encoded_source = layers.Bidirectional(\n",
        "    layers.GRU(latent_dim), merge_mode=\"sum\")(x)"
      ],
      "execution_count": 12,
      "outputs": []
    },
    {
      "cell_type": "code",
      "metadata": {
        "id": "bpoK4cTq4BaJ"
      },
      "source": [
        "past_target = keras.Input(shape=(None,), dtype=\"int64\", name=\"spanish\")\n",
        "x = layers.Embedding(vocab_size, embed_dim, mask_zero=True)(past_target)\n",
        "decoder_gru = layers.GRU(latent_dim, return_sequences=True)\n",
        "x = decoder_gru(x, initial_state=encoded_source)\n",
        "x = layers.Dropout(0.5)(x)\n",
        "target_next_step = layers.Dense(vocab_size, activation=\"softmax\")(x)\n",
        "seq2seq_rnn = keras.Model([source, past_target], target_next_step)"
      ],
      "execution_count": 13,
      "outputs": []
    },
    {
      "cell_type": "code",
      "metadata": {
        "colab": {
          "base_uri": "https://localhost:8080/"
        },
        "id": "zdlxFT8K4FMV",
        "outputId": "e63bf723-e19d-48a3-dc53-e36bdbca344e"
      },
      "source": [
        "seq2seq_rnn.compile(\n",
        "    optimizer=\"rmsprop\",\n",
        "    loss=\"sparse_categorical_crossentropy\",\n",
        "    metrics=[\"accuracy\"])\n",
        "seq2seq_rnn.fit(train_ds, epochs=15, validation_data=val_ds)"
      ],
      "execution_count": 14,
      "outputs": [
        {
          "output_type": "stream",
          "name": "stdout",
          "text": [
            "Epoch 1/15\n",
            "1302/1302 [==============================] - 230s 163ms/step - loss: 1.6398 - accuracy: 0.4167 - val_loss: 1.3156 - val_accuracy: 0.5055\n",
            "Epoch 2/15\n",
            "1302/1302 [==============================] - 209s 161ms/step - loss: 1.3150 - accuracy: 0.5282 - val_loss: 1.1474 - val_accuracy: 0.5692\n",
            "Epoch 3/15\n",
            "1302/1302 [==============================] - 210s 161ms/step - loss: 1.1723 - accuracy: 0.5778 - val_loss: 1.0675 - val_accuracy: 0.6015\n",
            "Epoch 4/15\n",
            "1302/1302 [==============================] - 210s 161ms/step - loss: 1.0812 - accuracy: 0.6097 - val_loss: 1.0344 - val_accuracy: 0.6199\n",
            "Epoch 5/15\n",
            "1302/1302 [==============================] - 209s 161ms/step - loss: 1.0332 - accuracy: 0.6342 - val_loss: 1.0216 - val_accuracy: 0.6297\n",
            "Epoch 6/15\n",
            "1302/1302 [==============================] - 210s 161ms/step - loss: 1.0039 - accuracy: 0.6520 - val_loss: 1.0169 - val_accuracy: 0.6357\n",
            "Epoch 7/15\n",
            "1302/1302 [==============================] - 210s 162ms/step - loss: 0.9836 - accuracy: 0.6662 - val_loss: 1.0160 - val_accuracy: 0.6392\n",
            "Epoch 8/15\n",
            "1302/1302 [==============================] - 211s 162ms/step - loss: 0.9706 - accuracy: 0.6762 - val_loss: 1.0214 - val_accuracy: 0.6407\n",
            "Epoch 9/15\n",
            "1302/1302 [==============================] - 210s 161ms/step - loss: 0.9594 - accuracy: 0.6845 - val_loss: 1.0237 - val_accuracy: 0.6422\n",
            "Epoch 10/15\n",
            "1302/1302 [==============================] - 210s 161ms/step - loss: 0.9517 - accuracy: 0.6901 - val_loss: 1.0230 - val_accuracy: 0.6450\n",
            "Epoch 11/15\n",
            "1302/1302 [==============================] - 210s 162ms/step - loss: 0.9453 - accuracy: 0.6947 - val_loss: 1.0294 - val_accuracy: 0.6444\n",
            "Epoch 12/15\n",
            "1302/1302 [==============================] - 211s 162ms/step - loss: 0.9415 - accuracy: 0.6981 - val_loss: 1.0311 - val_accuracy: 0.6444\n",
            "Epoch 13/15\n",
            "1302/1302 [==============================] - 211s 162ms/step - loss: 0.9390 - accuracy: 0.6998 - val_loss: 1.0324 - val_accuracy: 0.6449\n",
            "Epoch 14/15\n",
            "1302/1302 [==============================] - 210s 162ms/step - loss: 0.9365 - accuracy: 0.7020 - val_loss: 1.0358 - val_accuracy: 0.6457\n",
            "Epoch 15/15\n",
            "1302/1302 [==============================] - 210s 162ms/step - loss: 0.9364 - accuracy: 0.7025 - val_loss: 1.0356 - val_accuracy: 0.6455\n"
          ]
        },
        {
          "output_type": "execute_result",
          "data": {
            "text/plain": [
              "<keras.callbacks.History at 0x7f7ba02b4cd0>"
            ]
          },
          "metadata": {},
          "execution_count": 14
        }
      ]
    },
    {
      "cell_type": "code",
      "metadata": {
        "colab": {
          "base_uri": "https://localhost:8080/"
        },
        "id": "VptmQFHH4IDK",
        "outputId": "aa4e3e8a-f601-4e09-e2c3-4c97c9414644"
      },
      "source": [
        "import numpy as np\n",
        "spa_vocab = target_vectorization.get_vocabulary()\n",
        "spa_index_lookup = dict(zip(range(len(spa_vocab)), spa_vocab))\n",
        "max_decoded_sentence_length = 20\n",
        "\n",
        "def decode_sequence(input_sentence):\n",
        "    tokenized_input_sentence = source_vectorization([input_sentence])\n",
        "    decoded_sentence = \"[start]\"\n",
        "    for i in range(max_decoded_sentence_length):\n",
        "        tokenized_target_sentence = target_vectorization([decoded_sentence])\n",
        "        next_token_predictions = seq2seq_rnn.predict(\n",
        "            [tokenized_input_sentence, tokenized_target_sentence])\n",
        "        sampled_token_index = np.argmax(next_token_predictions[0, i, :])\n",
        "        sampled_token = spa_index_lookup[sampled_token_index]\n",
        "        decoded_sentence += \" \" + sampled_token\n",
        "        if sampled_token == \"[end]\":\n",
        "            break\n",
        "    return decoded_sentence\n",
        "\n",
        "test_eng_texts = [pair[0] for pair in test_pairs]\n",
        "for _ in range(20):\n",
        "    input_sentence = random.choice(test_eng_texts)\n",
        "    print(\"-\")\n",
        "    print(input_sentence)\n",
        "    print(decode_sequence(input_sentence))"
      ],
      "execution_count": 15,
      "outputs": [
        {
          "output_type": "stream",
          "name": "stdout",
          "text": [
            "-\n",
            "He asked for my permission to use the phone.\n",
            "[start] Él me pidió el teléfono para él [end]\n",
            "-\n",
            "I'll come as soon as possible.\n",
            "[start] yo lo pronto tan pronto como pueda [end]\n",
            "-\n",
            "Don't lie. Tell the truth.\n",
            "[start] no le digas la verdad [end]\n",
            "-\n",
            "The fact that it's expensive doesn't mean that it's any good.\n",
            "[start] el problema es que no es tan bueno como esa vez [end]\n",
            "-\n",
            "Tom didn't have the courage to ask his boss for a raise.\n",
            "[start] tom no tuvo el único que para no se para hacer un su [UNK] [end]\n",
            "-\n",
            "In the fall, many birds head for the south.\n",
            "[start] en los [UNK] los dos [UNK] la [UNK] [end]\n",
            "-\n",
            "When did he come here?\n",
            "[start] cuándo vino aquí [end]\n",
            "-\n",
            "Do you want my help?\n",
            "[start] quieres mi ayuda [end]\n",
            "-\n",
            "I got the ticket free of charge.\n",
            "[start] tengo el que se [UNK] para mí [end]\n",
            "-\n",
            "Tom left at midnight.\n",
            "[start] tom se fue a la cama [end]\n",
            "-\n",
            "Who is this letter from?\n",
            "[start] quién es esta carta de [UNK] [end]\n",
            "-\n",
            "I'm all tuckered out.\n",
            "[start] estoy todo [end]\n",
            "-\n",
            "My wife was a Smith.\n",
            "[start] mi mujer fue [UNK] [end]\n",
            "-\n",
            "Do you already have a plan?\n",
            "[start] ya tienes un plan [end]\n",
            "-\n",
            "I'm very tired now.\n",
            "[start] estoy muy cansado ahora [end]\n",
            "-\n",
            "He built an exact replica of Notre Dame Cathedral.\n",
            "[start] Él hizo una [UNK] [UNK] de [UNK] de la que te gusta [end]\n",
            "-\n",
            "Tom said he wished he hadn't left the windows open.\n",
            "[start] tom dijo que no había [UNK] las todavía la había dicho [end]\n",
            "-\n",
            "Tom is much better than I am at skiing.\n",
            "[start] tom es mucho mejor que yo en la que se [UNK] [end]\n",
            "-\n",
            "Mother has just gone out shopping.\n",
            "[start] la madre ha estado de hacer [UNK] [end]\n",
            "-\n",
            "I think something terrible has happened to Tom.\n",
            "[start] creo que le [UNK] algo a tom [end]\n"
          ]
        }
      ]
    },
    {
      "cell_type": "code",
      "metadata": {
        "id": "z9rbMowzGG6h"
      },
      "source": [
        "class TransformerDecoder(layers.Layer):\n",
        "    def __init__(self, embed_dim, dense_dim, num_heads, **kwargs):\n",
        "        super().__init__(**kwargs)\n",
        "        self.embed_dim = embed_dim\n",
        "        self.dense_dim = dense_dim\n",
        "        self.num_heads = num_heads\n",
        "        self.attention_1 = layers.MultiHeadAttention(\n",
        "            num_heads=num_heads, key_dim=embed_dim)\n",
        "        self.attention_2 = layers.MultiHeadAttention(\n",
        "            num_heads=num_heads, key_dim=embed_dim)\n",
        "        self.dense_proj = keras.Sequential(\n",
        "            [layers.Dense(dense_dim, activation=\"relu\"),\n",
        "             layers.Dense(embed_dim),]\n",
        "        )\n",
        "        self.layernorm_1 = layers.LayerNormalization()\n",
        "        self.layernorm_2 = layers.LayerNormalization()\n",
        "        self.layernorm_3 = layers.LayerNormalization()\n",
        "        self.supports_masking = True\n",
        "\n",
        "    def get_config(self):\n",
        "        config = super().get_config()\n",
        "        config.update({\n",
        "            \"embed_dim\": self.embed_dim,\n",
        "            \"num_heads\": self.num_heads,\n",
        "            \"dense_dim\": self.dense_dim,\n",
        "        })\n",
        "        return config\n",
        "\n",
        "    def get_causal_attention_mask(self, inputs):\n",
        "        input_shape = tf.shape(inputs)\n",
        "        batch_size, sequence_length = input_shape[0], input_shape[1]\n",
        "        i = tf.range(sequence_length)[:, tf.newaxis]\n",
        "        j = tf.range(sequence_length)\n",
        "        mask = tf.cast(i >= j, dtype=\"int32\")\n",
        "        mask = tf.reshape(mask, (1, input_shape[1], input_shape[1]))\n",
        "        mult = tf.concat(\n",
        "            [tf.expand_dims(batch_size, -1),\n",
        "             tf.constant([1, 1], dtype=tf.int32)], axis=0)\n",
        "        return tf.tile(mask, mult)\n",
        "\n",
        "    def call(self, inputs, encoder_outputs, mask=None):\n",
        "        causal_mask = self.get_causal_attention_mask(inputs)\n",
        "        if mask is not None:\n",
        "            padding_mask = tf.cast(\n",
        "                mask[:, tf.newaxis, :], dtype=\"int32\")\n",
        "            padding_mask = tf.minimum(padding_mask, causal_mask)\n",
        "        attention_output_1 = self.attention_1(\n",
        "            query=inputs,\n",
        "            value=inputs,\n",
        "            key=inputs,\n",
        "            attention_mask=causal_mask)\n",
        "        attention_output_1 = self.layernorm_1(inputs + attention_output_1)\n",
        "        attention_output_2 = self.attention_2(\n",
        "            query=attention_output_1,\n",
        "            value=encoder_outputs,\n",
        "            key=encoder_outputs,\n",
        "            attention_mask=padding_mask,\n",
        "        )\n",
        "        attention_output_2 = self.layernorm_2(\n",
        "            attention_output_1 + attention_output_2)\n",
        "        proj_output = self.dense_proj(attention_output_2)\n",
        "        return self.layernorm_3(attention_output_2 + proj_output)"
      ],
      "execution_count": 19,
      "outputs": []
    },
    {
      "cell_type": "code",
      "metadata": {
        "id": "qUF8YI0BGPHD"
      },
      "source": [
        "class PositionalEmbedding(layers.Layer):\n",
        "    def __init__(self, sequence_length, input_dim, output_dim, **kwargs):\n",
        "        super().__init__(**kwargs)\n",
        "        self.token_embeddings = layers.Embedding(\n",
        "            input_dim=input_dim, output_dim=output_dim)\n",
        "        self.position_embeddings = layers.Embedding(\n",
        "            input_dim=sequence_length, output_dim=output_dim)\n",
        "        self.sequence_length = sequence_length\n",
        "        self.input_dim = input_dim\n",
        "        self.output_dim = output_dim\n",
        "\n",
        "    def call(self, inputs):\n",
        "        length = tf.shape(inputs)[-1]\n",
        "        positions = tf.range(start=0, limit=length, delta=1)\n",
        "        embedded_tokens = self.token_embeddings(inputs)\n",
        "        embedded_positions = self.position_embeddings(positions)\n",
        "        return embedded_tokens + embedded_positions\n",
        "\n",
        "    def compute_mask(self, inputs, mask=None):\n",
        "        return tf.math.not_equal(inputs, 0)\n",
        "\n",
        "    def get_config(self):\n",
        "        config = super(PositionalEmbedding, self).get_config()\n",
        "        config.update({\n",
        "            \"output_dim\": self.output_dim,\n",
        "            \"sequence_length\": self.sequence_length,\n",
        "            \"input_dim\": self.input_dim,\n",
        "        })\n",
        "        return config"
      ],
      "execution_count": 20,
      "outputs": []
    },
    {
      "cell_type": "code",
      "metadata": {
        "id": "LOJ6KOGKHQX3"
      },
      "source": [
        "class TransformerEncoder(layers.Layer):\n",
        "    def __init__(self, embed_dim, dense_dim, num_heads, **kwargs):\n",
        "        super().__init__(**kwargs)\n",
        "        self.embed_dim = embed_dim\n",
        "        self.dense_dim = dense_dim\n",
        "        self.num_heads = num_heads\n",
        "        self.attention = layers.MultiHeadAttention(\n",
        "            num_heads=num_heads, key_dim=embed_dim)\n",
        "        self.dense_proj = keras.Sequential(\n",
        "            [layers.Dense(dense_dim, activation=\"relu\"),\n",
        "             layers.Dense(embed_dim),]\n",
        "        )\n",
        "        self.layernorm_1 = layers.LayerNormalization()\n",
        "        self.layernorm_2 = layers.LayerNormalization()\n",
        "\n",
        "    def call(self, inputs, mask=None):\n",
        "        if mask is not None:\n",
        "            mask = mask[:, tf.newaxis, :]\n",
        "        attention_output = self.attention(\n",
        "            inputs, inputs, attention_mask=mask)\n",
        "        proj_input = self.layernorm_1(inputs + attention_output)\n",
        "        proj_output = self.dense_proj(proj_input)\n",
        "        return self.layernorm_2(proj_input + proj_output)\n",
        "\n",
        "    def get_config(self):\n",
        "        config = super().get_config()\n",
        "        config.update({\n",
        "            \"embed_dim\": self.embed_dim,\n",
        "            \"num_heads\": self.num_heads,\n",
        "            \"dense_dim\": self.dense_dim,\n",
        "        })\n",
        "        return config"
      ],
      "execution_count": 23,
      "outputs": []
    },
    {
      "cell_type": "code",
      "metadata": {
        "id": "FCDahDYWGSGw"
      },
      "source": [
        "embed_dim = 256\n",
        "dense_dim = 2048\n",
        "num_heads = 8\n",
        "\n",
        "encoder_inputs = keras.Input(shape=(None,), dtype=\"int64\", name=\"english\")\n",
        "x = PositionalEmbedding(sequence_length, vocab_size, embed_dim)(encoder_inputs)\n",
        "encoder_outputs = TransformerEncoder(embed_dim, dense_dim, num_heads)(x)\n",
        "\n",
        "decoder_inputs = keras.Input(shape=(None,), dtype=\"int64\", name=\"spanish\")\n",
        "x = PositionalEmbedding(sequence_length, vocab_size, embed_dim)(decoder_inputs)\n",
        "x = TransformerDecoder(embed_dim, dense_dim, num_heads)(x, encoder_outputs)\n",
        "x = layers.Dropout(0.5)(x)\n",
        "decoder_outputs = layers.Dense(vocab_size, activation=\"softmax\")(x)\n",
        "transformer = keras.Model([encoder_inputs, decoder_inputs], decoder_outputs)"
      ],
      "execution_count": 24,
      "outputs": []
    },
    {
      "cell_type": "code",
      "metadata": {
        "colab": {
          "base_uri": "https://localhost:8080/"
        },
        "id": "TZxal41RGVLW",
        "outputId": "e3ee113a-ff68-411c-b8c1-6f4d4d927327"
      },
      "source": [
        "transformer.compile(\n",
        "    optimizer=\"rmsprop\",\n",
        "    loss=\"sparse_categorical_crossentropy\",\n",
        "    metrics=[\"accuracy\"])\n",
        "transformer.fit(train_ds, epochs=30, validation_data=val_ds)"
      ],
      "execution_count": 25,
      "outputs": [
        {
          "output_type": "stream",
          "name": "stdout",
          "text": [
            "Epoch 1/30\n",
            "1302/1302 [==============================] - 167s 124ms/step - loss: 1.6744 - accuracy: 0.4201 - val_loss: 1.3297 - val_accuracy: 0.5076\n",
            "Epoch 2/30\n",
            "1302/1302 [==============================] - 161s 124ms/step - loss: 1.3409 - accuracy: 0.5329 - val_loss: 1.1540 - val_accuracy: 0.5709\n",
            "Epoch 3/30\n",
            "1302/1302 [==============================] - 161s 124ms/step - loss: 1.1865 - accuracy: 0.5827 - val_loss: 1.0914 - val_accuracy: 0.5954\n",
            "Epoch 4/30\n",
            "1302/1302 [==============================] - 161s 124ms/step - loss: 1.0974 - accuracy: 0.6147 - val_loss: 1.0484 - val_accuracy: 0.6184\n",
            "Epoch 5/30\n",
            "1302/1302 [==============================] - 160s 123ms/step - loss: 1.0501 - accuracy: 0.6361 - val_loss: 1.0126 - val_accuracy: 0.6327\n",
            "Epoch 6/30\n",
            "1302/1302 [==============================] - 161s 124ms/step - loss: 1.0183 - accuracy: 0.6520 - val_loss: 1.0082 - val_accuracy: 0.6397\n",
            "Epoch 7/30\n",
            "1302/1302 [==============================] - 161s 124ms/step - loss: 0.9950 - accuracy: 0.6654 - val_loss: 0.9979 - val_accuracy: 0.6476\n",
            "Epoch 8/30\n",
            "1302/1302 [==============================] - 161s 123ms/step - loss: 0.9750 - accuracy: 0.6761 - val_loss: 0.9891 - val_accuracy: 0.6530\n",
            "Epoch 9/30\n",
            "1302/1302 [==============================] - 161s 124ms/step - loss: 0.9583 - accuracy: 0.6854 - val_loss: 0.9928 - val_accuracy: 0.6536\n",
            "Epoch 10/30\n",
            "1302/1302 [==============================] - 160s 123ms/step - loss: 0.9429 - accuracy: 0.6933 - val_loss: 0.9955 - val_accuracy: 0.6550\n",
            "Epoch 11/30\n",
            "1302/1302 [==============================] - 161s 124ms/step - loss: 0.9289 - accuracy: 0.7009 - val_loss: 0.9945 - val_accuracy: 0.6580\n",
            "Epoch 12/30\n",
            "1302/1302 [==============================] - 161s 124ms/step - loss: 0.9160 - accuracy: 0.7066 - val_loss: 0.9969 - val_accuracy: 0.6580\n",
            "Epoch 13/30\n",
            "1302/1302 [==============================] - 161s 123ms/step - loss: 0.9037 - accuracy: 0.7127 - val_loss: 0.9947 - val_accuracy: 0.6613\n",
            "Epoch 14/30\n",
            "1302/1302 [==============================] - 161s 124ms/step - loss: 0.8912 - accuracy: 0.7180 - val_loss: 0.9952 - val_accuracy: 0.6620\n",
            "Epoch 15/30\n",
            "1302/1302 [==============================] - 161s 124ms/step - loss: 0.8805 - accuracy: 0.7225 - val_loss: 1.0032 - val_accuracy: 0.6628\n",
            "Epoch 16/30\n",
            "1302/1302 [==============================] - 161s 124ms/step - loss: 0.8693 - accuracy: 0.7275 - val_loss: 1.0029 - val_accuracy: 0.6636\n",
            "Epoch 17/30\n",
            "1302/1302 [==============================] - 161s 124ms/step - loss: 0.8588 - accuracy: 0.7315 - val_loss: 1.0094 - val_accuracy: 0.6634\n",
            "Epoch 18/30\n",
            "1302/1302 [==============================] - 161s 124ms/step - loss: 0.8477 - accuracy: 0.7357 - val_loss: 1.0106 - val_accuracy: 0.6640\n",
            "Epoch 19/30\n",
            "1302/1302 [==============================] - 161s 123ms/step - loss: 0.8383 - accuracy: 0.7395 - val_loss: 1.0165 - val_accuracy: 0.6635\n",
            "Epoch 20/30\n",
            "1302/1302 [==============================] - 161s 124ms/step - loss: 0.8286 - accuracy: 0.7433 - val_loss: 1.0179 - val_accuracy: 0.6662\n",
            "Epoch 21/30\n",
            "1302/1302 [==============================] - 161s 124ms/step - loss: 0.8197 - accuracy: 0.7468 - val_loss: 1.0355 - val_accuracy: 0.6646\n",
            "Epoch 22/30\n",
            "1302/1302 [==============================] - 161s 123ms/step - loss: 0.8105 - accuracy: 0.7502 - val_loss: 1.0290 - val_accuracy: 0.6656\n",
            "Epoch 23/30\n",
            "1302/1302 [==============================] - 161s 124ms/step - loss: 0.8016 - accuracy: 0.7527 - val_loss: 1.0305 - val_accuracy: 0.6646\n",
            "Epoch 24/30\n",
            "1302/1302 [==============================] - 161s 124ms/step - loss: 0.7962 - accuracy: 0.7555 - val_loss: 1.0340 - val_accuracy: 0.6651\n",
            "Epoch 25/30\n",
            "1302/1302 [==============================] - 161s 124ms/step - loss: 0.7877 - accuracy: 0.7588 - val_loss: 1.0410 - val_accuracy: 0.6646\n",
            "Epoch 26/30\n",
            "1302/1302 [==============================] - 161s 124ms/step - loss: 0.7787 - accuracy: 0.7617 - val_loss: 1.0415 - val_accuracy: 0.6686\n",
            "Epoch 27/30\n",
            "1302/1302 [==============================] - 162s 124ms/step - loss: 0.7735 - accuracy: 0.7644 - val_loss: 1.0534 - val_accuracy: 0.6652\n",
            "Epoch 28/30\n",
            "1302/1302 [==============================] - 161s 124ms/step - loss: 0.7669 - accuracy: 0.7658 - val_loss: 1.0589 - val_accuracy: 0.6640\n",
            "Epoch 29/30\n",
            "1302/1302 [==============================] - 161s 124ms/step - loss: 0.7584 - accuracy: 0.7684 - val_loss: 1.0647 - val_accuracy: 0.6655\n",
            "Epoch 30/30\n",
            "1302/1302 [==============================] - 161s 124ms/step - loss: 0.7549 - accuracy: 0.7709 - val_loss: 1.0652 - val_accuracy: 0.6655\n"
          ]
        },
        {
          "output_type": "execute_result",
          "data": {
            "text/plain": [
              "<keras.callbacks.History at 0x7f7b2c7b3e90>"
            ]
          },
          "metadata": {},
          "execution_count": 25
        }
      ]
    },
    {
      "cell_type": "code",
      "metadata": {
        "colab": {
          "base_uri": "https://localhost:8080/"
        },
        "id": "kDe-du8HHZLL",
        "outputId": "e9702bac-b6ff-47ee-8d96-fa2ee14707b6"
      },
      "source": [
        "import numpy as np\n",
        "spa_vocab = target_vectorization.get_vocabulary()\n",
        "spa_index_lookup = dict(zip(range(len(spa_vocab)), spa_vocab))\n",
        "max_decoded_sentence_length = 20\n",
        "\n",
        "def decode_sequence(input_sentence):\n",
        "    tokenized_input_sentence = source_vectorization([input_sentence])\n",
        "    decoded_sentence = \"[start]\"\n",
        "    for i in range(max_decoded_sentence_length):\n",
        "        tokenized_target_sentence = target_vectorization(\n",
        "            [decoded_sentence])[:, :-1]\n",
        "        predictions = transformer(\n",
        "            [tokenized_input_sentence, tokenized_target_sentence])\n",
        "        sampled_token_index = np.argmax(predictions[0, i, :])\n",
        "        sampled_token = spa_index_lookup[sampled_token_index]\n",
        "        decoded_sentence += \" \" + sampled_token\n",
        "        if sampled_token == \"[end]\":\n",
        "            break\n",
        "    return decoded_sentence\n",
        "\n",
        "test_eng_texts = [pair[0] for pair in test_pairs]\n",
        "for _ in range(20):\n",
        "    input_sentence = random.choice(test_eng_texts)\n",
        "    print(\"-\")\n",
        "    print(input_sentence)\n",
        "    print(decode_sequence(input_sentence))"
      ],
      "execution_count": 26,
      "outputs": [
        {
          "output_type": "stream",
          "name": "stdout",
          "text": [
            "-\n",
            "There is an urgent need for clean energy.\n",
            "[start] hay una necesidad [UNK] [UNK] [end]\n",
            "-\n",
            "I can speak English.\n",
            "[start] yo sé hablar inglés [end]\n",
            "-\n",
            "Tom is already standing.\n",
            "[start] tom ya está en pie [end]\n",
            "-\n",
            "Tom went to Boston for a week.\n",
            "[start] tom fue a boston por una semana [end]\n",
            "-\n",
            "I changed my shirt.\n",
            "[start] me [UNK] de la camisa [end]\n",
            "-\n",
            "Do you live near here?\n",
            "[start] ustedes viven cerca de acá [end]\n",
            "-\n",
            "Tom didn't come with us to Boston.\n",
            "[start] tom no vino con boston a boston [end]\n",
            "-\n",
            "Tom and Mary are in Tom's car.\n",
            "[start] tom y mary están en el auto de tom [end]\n",
            "-\n",
            "Come here before seven o'clock.\n",
            "[start] ven acá antes de las siete [end]\n",
            "-\n",
            "I couldn't get back to sleep.\n",
            "[start] no pude dormir en dormir [end]\n",
            "-\n",
            "I have a black eye.\n",
            "[start] tengo un ojo negro [end]\n",
            "-\n",
            "We can't talk here.\n",
            "[start] no podemos hablar acá [end]\n",
            "-\n",
            "This might not have anything to do with the problem at hand.\n",
            "[start] puede no tener nada que ver con el problema en la mano [end]\n",
            "-\n",
            "They dream of the day when they'll be rolling in money.\n",
            "[start] papá [UNK] de día a la [UNK] en dinero [end]\n",
            "-\n",
            "Our cat is in the kitchen.\n",
            "[start] nuestro gato está en la cocina [end]\n",
            "-\n",
            "Tom wants something different.\n",
            "[start] tom quiere algo hermoso [end]\n",
            "-\n",
            "Don't you have any money?\n",
            "[start] no tienes nada de dinero [end]\n",
            "-\n",
            "Here you are.\n",
            "[start] estás aquí [end]\n",
            "-\n",
            "Tomorrow, I'm going to study at the library.\n",
            "[start] mañana voy a estudiar en la biblioteca [end]\n",
            "-\n",
            "He's a lovely young man.\n",
            "[start] es una buena atención [end]\n"
          ]
        }
      ]
    },
    {
      "cell_type": "code",
      "metadata": {
        "id": "qIkVWXijcYgB"
      },
      "source": [
        ""
      ],
      "execution_count": null,
      "outputs": []
    }
  ]
}