{
  "nbformat": 4,
  "nbformat_minor": 0,
  "metadata": {
    "colab": {
      "name": "Understanding Recurrent Neural Networks.ipynb",
      "provenance": []
    },
    "kernelspec": {
      "name": "python3",
      "display_name": "Python 3"
    },
    "language_info": {
      "name": "python"
    },
    "accelerator": "GPU"
  },
  "cells": [
    {
      "cell_type": "code",
      "metadata": {
        "id": "15MVsbyueTBX"
      },
      "source": [
        "!pip install tensorflow==2.1"
      ],
      "execution_count": null,
      "outputs": []
    },
    {
      "cell_type": "code",
      "metadata": {
        "colab": {
          "base_uri": "https://localhost:8080/"
        },
        "id": "zOpjt4d0ypn4",
        "outputId": "8d7bebaf-9ef2-45fd-b580-8a31d3084edc"
      },
      "source": [
        "import tensorflow as tf\n",
        "print(tf.__version__)"
      ],
      "execution_count": 2,
      "outputs": [
        {
          "output_type": "stream",
          "name": "stdout",
          "text": [
            "2.1.0\n"
          ]
        }
      ]
    },
    {
      "cell_type": "code",
      "metadata": {
        "id": "1wPpuJVhy4Ox",
        "colab": {
          "resources": {
            "http://localhost:8080/nbextensions/google.colab/files.js": {
              "data": "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",
              "ok": true,
              "headers": [
                [
                  "content-type",
                  "application/javascript"
                ]
              ],
              "status": 200,
              "status_text": "OK"
            }
          },
          "base_uri": "https://localhost:8080/",
          "height": 75
        },
        "outputId": "f97f9e69-0c1f-4c9b-822d-e315eddaee97"
      },
      "source": [
        "from google.colab import files\n",
        "uploaded = files.upload()"
      ],
      "execution_count": 3,
      "outputs": [
        {
          "output_type": "display_data",
          "data": {
            "text/html": [
              "\n",
              "     <input type=\"file\" id=\"files-d0cd74bb-18dc-49b0-b7bd-e8bf1c68fb61\" name=\"files[]\" multiple disabled\n",
              "        style=\"border:none\" />\n",
              "     <output id=\"result-d0cd74bb-18dc-49b0-b7bd-e8bf1c68fb61\">\n",
              "      Upload widget is only available when the cell has been executed in the\n",
              "      current browser session. Please rerun this cell to enable.\n",
              "      </output>\n",
              "      <script src=\"/nbextensions/google.colab/files.js\"></script> "
            ],
            "text/plain": [
              "<IPython.core.display.HTML object>"
            ]
          },
          "metadata": {}
        },
        {
          "output_type": "stream",
          "name": "stdout",
          "text": [
            "Saving jena_climate_2009_2016.csv to jena_climate_2009_2016.csv\n"
          ]
        }
      ]
    },
    {
      "cell_type": "code",
      "metadata": {
        "colab": {
          "base_uri": "https://localhost:8080/"
        },
        "id": "sX7V-TYUSKwb",
        "outputId": "445d0c3c-f532-4d0c-b57f-5b69cacb8f84"
      },
      "source": [
        "!ls"
      ],
      "execution_count": 4,
      "outputs": [
        {
          "output_type": "stream",
          "name": "stdout",
          "text": [
            "jena_climate_2009_2016.csv  sample_data\n"
          ]
        }
      ]
    },
    {
      "cell_type": "code",
      "metadata": {
        "colab": {
          "base_uri": "https://localhost:8080/"
        },
        "id": "zNBXCGle30Nf",
        "outputId": "7a3e6ce6-032b-4e5f-9711-d435d5e25377"
      },
      "source": [
        "import os\n",
        "\n",
        "\n",
        "fname = os.path.join('jena_climate_2009_2016.csv')\n",
        "\n",
        "f = open(fname)\n",
        "data = f.read()\n",
        "f.close()\n",
        "\n",
        "lines = data.split('\\n')\n",
        "header = lines[0].split(',')\n",
        "lines = lines[1:]\n",
        "\n",
        "print(header)\n",
        "print(len(lines))"
      ],
      "execution_count": 5,
      "outputs": [
        {
          "output_type": "stream",
          "name": "stdout",
          "text": [
            "['\"Date Time\"', '\"p (mbar)\"', '\"T (degC)\"', '\"Tpot (K)\"', '\"Tdew (degC)\"', '\"rh (%)\"', '\"VPmax (mbar)\"', '\"VPact (mbar)\"', '\"VPdef (mbar)\"', '\"sh (g/kg)\"', '\"H2OC (mmol/mol)\"', '\"rho (g/m**3)\"', '\"wv (m/s)\"', '\"max. wv (m/s)\"', '\"wd (deg)\"']\n",
            "420551\n"
          ]
        }
      ]
    },
    {
      "cell_type": "code",
      "metadata": {
        "id": "ksXI6uQW37eR"
      },
      "source": [
        "import numpy as np\n",
        "\n",
        "float_data = np.zeros((len(lines), len(header) - 1))\n",
        "for i, line in enumerate(lines):\n",
        "    values = [float(x) for x in line.split(',')[1:]]\n",
        "    float_data[i, :] = values"
      ],
      "execution_count": 6,
      "outputs": []
    },
    {
      "cell_type": "code",
      "metadata": {
        "colab": {
          "base_uri": "https://localhost:8080/",
          "height": 268
        },
        "id": "N8DPMsOy4BcQ",
        "outputId": "ad015e1d-bb8f-4263-d38d-16f4e2a9ddf4"
      },
      "source": [
        "from matplotlib import pyplot as plt\n",
        "\n",
        "temp = float_data[:, 1]  # temperature (in degrees Celsius)\n",
        "plt.plot(range(len(temp)), temp)\n",
        "plt.show()"
      ],
      "execution_count": 7,
      "outputs": [
        {
          "output_type": "display_data",
          "data": {
            "image/png": "[encoded data removed]",
            "text/plain": [
              "<Figure size 432x288 with 1 Axes>"
            ]
          },
          "metadata": {
            "needs_background": "light"
          }
        }
      ]
    },
    {
      "cell_type": "code",
      "metadata": {
        "colab": {
          "base_uri": "https://localhost:8080/",
          "height": 265
        },
        "id": "PIctpl4s4IdV",
        "outputId": "b130c6f3-61ae-42aa-aebc-1b05438bff98"
      },
      "source": [
        "plt.plot(range(1440), temp[:1440])\n",
        "plt.show()"
      ],
      "execution_count": 8,
      "outputs": [
        {
          "output_type": "display_data",
          "data": {
            "image/png": "[encoded data removed]",
            "text/plain": [
              "<Figure size 432x288 with 1 Axes>"
            ]
          },
          "metadata": {
            "needs_background": "light"
          }
        }
      ]
    },
    {
      "cell_type": "code",
      "metadata": {
        "id": "eFHax4CD4Mj2"
      },
      "source": [
        "mean = float_data[:200000].mean(axis=0)\n",
        "float_data -= mean\n",
        "std = float_data[:200000].std(axis=0)\n",
        "float_data /= std"
      ],
      "execution_count": 9,
      "outputs": []
    },
    {
      "cell_type": "code",
      "metadata": {
        "id": "tQyp4NPT4Qh2"
      },
      "source": [
        "def generator(data, lookback, delay, min_index, max_index,\n",
        "              shuffle=False, batch_size=128, step=6):\n",
        "    if max_index is None:\n",
        "        max_index = len(data) - delay - 1\n",
        "    i = min_index + lookback\n",
        "    while 1:\n",
        "        if shuffle:\n",
        "            rows = np.random.randint(\n",
        "                min_index + lookback, max_index, size=batch_size)\n",
        "        else:\n",
        "            if i + batch_size >= max_index:\n",
        "                i = min_index + lookback\n",
        "            rows = np.arange(i, min(i + batch_size, max_index))\n",
        "            i += len(rows)\n",
        "\n",
        "        samples = np.zeros((len(rows),\n",
        "                           lookback // step,\n",
        "                           data.shape[-1]))\n",
        "        targets = np.zeros((len(rows),))\n",
        "        for j, row in enumerate(rows):\n",
        "            indices = range(rows[j] - lookback, rows[j], step)\n",
        "            samples[j] = data[indices]\n",
        "            targets[j] = data[rows[j] + delay][1]\n",
        "        yield samples, targets"
      ],
      "execution_count": 10,
      "outputs": []
    },
    {
      "cell_type": "code",
      "metadata": {
        "id": "1Aanuoo74UMg"
      },
      "source": [
        "lookback = 1440\n",
        "step = 6\n",
        "delay = 144\n",
        "batch_size = 128\n",
        "\n",
        "train_gen = generator(float_data,\n",
        "                      lookback=lookback,\n",
        "                      delay=delay,\n",
        "                      min_index=0,\n",
        "                      max_index=200000,\n",
        "                      shuffle=True,\n",
        "                      step=step, \n",
        "                      batch_size=batch_size)\n",
        "val_gen = generator(float_data,\n",
        "                    lookback=lookback,\n",
        "                    delay=delay,\n",
        "                    min_index=200001,\n",
        "                    max_index=300000,\n",
        "                    step=step,\n",
        "                    batch_size=batch_size)\n",
        "test_gen = generator(float_data,\n",
        "                     lookback=lookback,\n",
        "                     delay=delay,\n",
        "                     min_index=300001,\n",
        "                     max_index=None,\n",
        "                     step=step,\n",
        "                     batch_size=batch_size)\n",
        "\n",
        "# This is how many steps to draw from `val_gen`\n",
        "# in order to see the whole validation set:\n",
        "val_steps = (300000 - 200001 - lookback) // batch_size\n",
        "\n",
        "# This is how many steps to draw from `test_gen`\n",
        "# in order to see the whole test set:\n",
        "test_steps = (len(float_data) - 300001 - lookback) // batch_size"
      ],
      "execution_count": 11,
      "outputs": []
    },
    {
      "cell_type": "code",
      "metadata": {
        "id": "ystUwWA14XwD"
      },
      "source": [
        "# np.mean(np.abs(preds - targets))"
      ],
      "execution_count": 12,
      "outputs": []
    },
    {
      "cell_type": "code",
      "metadata": {
        "colab": {
          "base_uri": "https://localhost:8080/"
        },
        "id": "F8vGAXYu4av4",
        "outputId": "779a629e-b50a-438b-d076-159295c4ae7a"
      },
      "source": [
        "def evaluate_naive_method():\n",
        "    batch_maes = []\n",
        "    for step in range(val_steps):\n",
        "        samples, targets = next(val_gen)\n",
        "        preds = samples[:, -1, 1]\n",
        "        mae = np.mean(np.abs(preds - targets))\n",
        "        batch_maes.append(mae)\n",
        "    print(np.mean(batch_maes))\n",
        "    \n",
        "evaluate_naive_method()"
      ],
      "execution_count": 13,
      "outputs": [
        {
          "output_type": "stream",
          "name": "stdout",
          "text": [
            "0.2897359729905486\n"
          ]
        }
      ]
    },
    {
      "cell_type": "code",
      "metadata": {
        "colab": {
          "base_uri": "https://localhost:8080/"
        },
        "id": "QqPE9AMA4sIF",
        "outputId": "3d94212d-64e7-42f6-d652-60ab1f70fada"
      },
      "source": [
        "from tensorflow.keras.models import Sequential\n",
        "from tensorflow.keras import layers\n",
        "from tensorflow.keras.optimizers import RMSprop\n",
        "\n",
        "model = Sequential()\n",
        "model.add(layers.Flatten(input_shape=(lookback // step, float_data.shape[-1])))\n",
        "model.add(layers.Dense(32, activation='relu'))\n",
        "model.add(layers.Dense(1))\n",
        "\n",
        "model.compile(optimizer=RMSprop(), loss='mae')\n",
        "history = model.fit_generator(train_gen,\n",
        "                              steps_per_epoch=500,\n",
        "                              epochs=20,\n",
        "                              validation_data=val_gen,\n",
        "                              validation_steps=val_steps)"
      ],
      "execution_count": 14,
      "outputs": [
        {
          "output_type": "stream",
          "name": "stdout",
          "text": [
            "WARNING:tensorflow:From <ipython-input-14-afdf42fff211>:15: Model.fit_generator (from tensorflow.python.keras.engine.training) is deprecated and will be removed in a future version.\n",
            "Instructions for updating:\n",
            "Please use Model.fit, which supports generators.\n",
            "WARNING:tensorflow:sample_weight modes were coerced from\n",
            "  ...\n",
            "    to  \n",
            "  ['...']\n",
            "WARNING:tensorflow:sample_weight modes were coerced from\n",
            "  ...\n",
            "    to  \n",
            "  ['...']\n",
            "Train for 500 steps, validate for 769 steps\n",
            "Epoch 1/20\n",
            "500/500 [==============================] - 17s 33ms/step - loss: 1.3474 - val_loss: 0.6963\n",
            "Epoch 2/20\n",
            "500/500 [==============================] - 15s 30ms/step - loss: 0.4732 - val_loss: 0.3815\n",
            "Epoch 3/20\n",
            "500/500 [==============================] - 14s 29ms/step - loss: 0.3046 - val_loss: 0.3175\n",
            "Epoch 4/20\n",
            "500/500 [==============================] - 15s 30ms/step - loss: 0.2700 - val_loss: 0.3300\n",
            "Epoch 5/20\n",
            "500/500 [==============================] - 14s 28ms/step - loss: 0.2541 - val_loss: 0.3183\n",
            "Epoch 6/20\n",
            "500/500 [==============================] - 14s 28ms/step - loss: 0.2461 - val_loss: 0.3129\n",
            "Epoch 7/20\n",
            "500/500 [==============================] - 14s 28ms/step - loss: 0.2386 - val_loss: 0.3232\n",
            "Epoch 8/20\n",
            "500/500 [==============================] - 14s 29ms/step - loss: 0.2324 - val_loss: 0.3251\n",
            "Epoch 9/20\n",
            "500/500 [==============================] - 15s 30ms/step - loss: 0.2286 - val_loss: 0.3428\n",
            "Epoch 10/20\n",
            "500/500 [==============================] - 15s 29ms/step - loss: 0.2225 - val_loss: 0.3203\n",
            "Epoch 11/20\n",
            "500/500 [==============================] - 15s 30ms/step - loss: 0.2208 - val_loss: 0.3285\n",
            "Epoch 12/20\n",
            "500/500 [==============================] - 15s 30ms/step - loss: 0.2157 - val_loss: 0.3508\n",
            "Epoch 13/20\n",
            "500/500 [==============================] - 15s 30ms/step - loss: 0.2131 - val_loss: 0.3260\n",
            "Epoch 14/20\n",
            "500/500 [==============================] - 14s 28ms/step - loss: 0.2109 - val_loss: 0.3274\n",
            "Epoch 15/20\n",
            "500/500 [==============================] - 15s 29ms/step - loss: 0.2072 - val_loss: 0.3391\n",
            "Epoch 16/20\n",
            "500/500 [==============================] - 14s 28ms/step - loss: 0.2050 - val_loss: 0.3365\n",
            "Epoch 17/20\n",
            "500/500 [==============================] - 14s 28ms/step - loss: 0.2037 - val_loss: 0.3586\n",
            "Epoch 18/20\n",
            "500/500 [==============================] - 14s 28ms/step - loss: 0.2004 - val_loss: 0.3325\n",
            "Epoch 19/20\n",
            "500/500 [==============================] - 14s 28ms/step - loss: 0.1993 - val_loss: 0.3420\n",
            "Epoch 20/20\n",
            "500/500 [==============================] - 15s 29ms/step - loss: 0.1982 - val_loss: 0.3487\n"
          ]
        }
      ]
    },
    {
      "cell_type": "code",
      "metadata": {
        "colab": {
          "base_uri": "https://localhost:8080/",
          "height": 281
        },
        "id": "j8V7aypp5PQt",
        "outputId": "9db27550-9975-4f63-baf5-61722b8f5774"
      },
      "source": [
        "import matplotlib.pyplot as plt\n",
        "\n",
        "loss = history.history['loss']\n",
        "val_loss = history.history['val_loss']\n",
        "\n",
        "epochs = range(len(loss))\n",
        "\n",
        "plt.figure()\n",
        "\n",
        "plt.plot(epochs, loss, 'bo', label='Training loss')\n",
        "plt.plot(epochs, val_loss, 'b', label='Validation loss')\n",
        "plt.title('Training and validation loss')\n",
        "plt.legend()\n",
        "\n",
        "plt.show()"
      ],
      "execution_count": 15,
      "outputs": [
        {
          "output_type": "display_data",
          "data": {
            "image/png": "[encoded data removed]",
            "text/plain": [
              "<Figure size 432x288 with 1 Axes>"
            ]
          },
          "metadata": {
            "needs_background": "light"
          }
        }
      ]
    },
    {
      "cell_type": "code",
      "metadata": {
        "colab": {
          "base_uri": "https://localhost:8080/"
        },
        "id": "6Ae--9lN6fJM",
        "outputId": "24183c34-9dbb-405a-9073-de92b8819d9c"
      },
      "source": [
        "from tensorflow.keras.models import Sequential\n",
        "from tensorflow.keras import layers\n",
        "from tensorflow.keras.optimizers import RMSprop\n",
        "\n",
        "model = Sequential()\n",
        "model.add(layers.GRU(32, input_shape=(None, float_data.shape[-1])))\n",
        "model.add(layers.Dense(1))\n",
        "\n",
        "model.compile(optimizer=RMSprop(), loss='mae')\n",
        "history = model.fit_generator(train_gen,\n",
        "                              steps_per_epoch=500,\n",
        "                              epochs=20,\n",
        "                              validation_data=val_gen,\n",
        "                              validation_steps=val_steps)"
      ],
      "execution_count": 16,
      "outputs": [
        {
          "output_type": "stream",
          "name": "stdout",
          "text": [
            "WARNING:tensorflow:sample_weight modes were coerced from\n",
            "  ...\n",
            "    to  \n",
            "  ['...']\n",
            "WARNING:tensorflow:sample_weight modes were coerced from\n",
            "  ...\n",
            "    to  \n",
            "  ['...']\n",
            "Train for 500 steps, validate for 769 steps\n",
            "Epoch 1/20\n",
            "500/500 [==============================] - 39s 78ms/step - loss: 0.3040 - val_loss: 0.2726\n",
            "Epoch 2/20\n",
            "500/500 [==============================] - 33s 66ms/step - loss: 0.2866 - val_loss: 0.2694\n",
            "Epoch 3/20\n",
            "500/500 [==============================] - 33s 67ms/step - loss: 0.2779 - val_loss: 0.2717\n",
            "Epoch 4/20\n",
            "500/500 [==============================] - 33s 66ms/step - loss: 0.2725 - val_loss: 0.2645\n",
            "Epoch 5/20\n",
            "500/500 [==============================] - 33s 65ms/step - loss: 0.2684 - val_loss: 0.2647\n",
            "Epoch 6/20\n",
            "500/500 [==============================] - 33s 66ms/step - loss: 0.2639 - val_loss: 0.2662\n",
            "Epoch 7/20\n",
            "500/500 [==============================] - 33s 66ms/step - loss: 0.2599 - val_loss: 0.2673\n",
            "Epoch 8/20\n",
            "500/500 [==============================] - 33s 66ms/step - loss: 0.2550 - val_loss: 0.2696\n",
            "Epoch 9/20\n",
            "500/500 [==============================] - 33s 66ms/step - loss: 0.2486 - val_loss: 0.2739\n",
            "Epoch 10/20\n",
            "500/500 [==============================] - 33s 66ms/step - loss: 0.2466 - val_loss: 0.2772\n",
            "Epoch 11/20\n",
            "500/500 [==============================] - 33s 66ms/step - loss: 0.2438 - val_loss: 0.2815\n",
            "Epoch 12/20\n",
            "500/500 [==============================] - 33s 66ms/step - loss: 0.2368 - val_loss: 0.2847\n",
            "Epoch 13/20\n",
            "500/500 [==============================] - 33s 66ms/step - loss: 0.2335 - val_loss: 0.2864\n",
            "Epoch 14/20\n",
            "500/500 [==============================] - 33s 66ms/step - loss: 0.2300 - val_loss: 0.2856\n",
            "Epoch 15/20\n",
            "500/500 [==============================] - 33s 66ms/step - loss: 0.2263 - val_loss: 0.2895\n",
            "Epoch 16/20\n",
            "500/500 [==============================] - 33s 66ms/step - loss: 0.2224 - val_loss: 0.2977\n",
            "Epoch 17/20\n",
            "500/500 [==============================] - 33s 66ms/step - loss: 0.2172 - val_loss: 0.3017\n",
            "Epoch 18/20\n",
            "500/500 [==============================] - 33s 66ms/step - loss: 0.2144 - val_loss: 0.2986\n",
            "Epoch 19/20\n",
            "500/500 [==============================] - 33s 66ms/step - loss: 0.2098 - val_loss: 0.3006\n",
            "Epoch 20/20\n",
            "500/500 [==============================] - 33s 66ms/step - loss: 0.2056 - val_loss: 0.3078\n"
          ]
        }
      ]
    },
    {
      "cell_type": "code",
      "metadata": {
        "colab": {
          "base_uri": "https://localhost:8080/",
          "height": 281
        },
        "id": "q81bIKbz6pG9",
        "outputId": "0ccc35f5-7119-4152-b223-94ea7ecf688a"
      },
      "source": [
        "loss = history.history['loss']\n",
        "val_loss = history.history['val_loss']\n",
        "\n",
        "epochs = range(len(loss))\n",
        "\n",
        "plt.figure()\n",
        "\n",
        "plt.plot(epochs, loss, 'bo', label='Training loss')\n",
        "plt.plot(epochs, val_loss, 'b', label='Validation loss')\n",
        "plt.title('Training and validation loss')\n",
        "plt.legend()\n",
        "\n",
        "plt.show()"
      ],
      "execution_count": 17,
      "outputs": [
        {
          "output_type": "display_data",
          "data": {
            "image/png": "[encoded data removed]",
            "text/plain": [
              "<Figure size 432x288 with 1 Axes>"
            ]
          },
          "metadata": {
            "needs_background": "light"
          }
        }
      ]
    },
    {
      "cell_type": "code",
      "metadata": {
        "colab": {
          "base_uri": "https://localhost:8080/"
        },
        "id": "3Kt4pEHV9PEE",
        "outputId": "f312a389-fc31-496d-9e87-85a68f5991a7"
      },
      "source": [
        "from tensorflow.keras.models import Sequential\n",
        "from tensorflow.keras import layers\n",
        "from tensorflow.keras.optimizers import RMSprop\n",
        "\n",
        "model = Sequential()\n",
        "model.add(layers.GRU(32,\n",
        "                     dropout=0.2,\n",
        "                     recurrent_dropout=0.2,\n",
        "                     input_shape=(None, float_data.shape[-1])))\n",
        "model.add(layers.Dense(1))\n",
        "\n",
        "model.compile(optimizer=RMSprop(), loss='mae')\n",
        "history = model.fit_generator(train_gen,\n",
        "                              steps_per_epoch=500,\n",
        "                              epochs=40,\n",
        "                              validation_data=val_gen,\n",
        "                              validation_steps=val_steps)"
      ],
      "execution_count": 18,
      "outputs": [
        {
          "output_type": "stream",
          "name": "stdout",
          "text": [
            "WARNING:tensorflow:sample_weight modes were coerced from\n",
            "  ...\n",
            "    to  \n",
            "  ['...']\n",
            "WARNING:tensorflow:sample_weight modes were coerced from\n",
            "  ...\n",
            "    to  \n",
            "  ['...']\n",
            "Train for 500 steps, validate for 769 steps\n",
            "Epoch 1/40\n",
            "500/500 [==============================] - 280s 560ms/step - loss: 0.3370 - val_loss: 0.2748\n",
            "Epoch 2/40\n",
            "500/500 [==============================] - 277s 555ms/step - loss: 0.3110 - val_loss: 0.2746\n",
            "Epoch 3/40\n",
            "500/500 [==============================] - 279s 559ms/step - loss: 0.3053 - val_loss: 0.2685\n",
            "Epoch 4/40\n",
            "500/500 [==============================] - 278s 555ms/step - loss: 0.2997 - val_loss: 0.2695\n",
            "Epoch 5/40\n",
            "500/500 [==============================] - 276s 552ms/step - loss: 0.2973 - val_loss: 0.2674\n",
            "Epoch 6/40\n",
            "500/500 [==============================] - 275s 550ms/step - loss: 0.2938 - val_loss: 0.2666\n",
            "Epoch 7/40\n",
            "500/500 [==============================] - 276s 552ms/step - loss: 0.2924 - val_loss: 0.2651\n",
            "Epoch 8/40\n",
            "500/500 [==============================] - 278s 556ms/step - loss: 0.2911 - val_loss: 0.2778\n",
            "Epoch 9/40\n",
            "500/500 [==============================] - 276s 553ms/step - loss: 0.2883 - val_loss: 0.2638\n",
            "Epoch 10/40\n",
            "500/500 [==============================] - 276s 552ms/step - loss: 0.2857 - val_loss: 0.2669\n",
            "Epoch 11/40\n",
            "500/500 [==============================] - 276s 552ms/step - loss: 0.2862 - val_loss: 0.2626\n",
            "Epoch 12/40\n",
            "500/500 [==============================] - 275s 550ms/step - loss: 0.2835 - val_loss: 0.2658\n",
            "Epoch 13/40\n",
            "500/500 [==============================] - 278s 557ms/step - loss: 0.2804 - val_loss: 0.2632\n",
            "Epoch 14/40\n",
            "500/500 [==============================] - 279s 558ms/step - loss: 0.2807 - val_loss: 0.2679\n",
            "Epoch 15/40\n",
            "500/500 [==============================] - 276s 552ms/step - loss: 0.2798 - val_loss: 0.2638\n",
            "Epoch 16/40\n",
            "500/500 [==============================] - 277s 555ms/step - loss: 0.2774 - val_loss: 0.2619\n",
            "Epoch 17/40\n",
            "500/500 [==============================] - 278s 555ms/step - loss: 0.2769 - val_loss: 0.2660\n",
            "Epoch 18/40\n",
            "500/500 [==============================] - 277s 554ms/step - loss: 0.2748 - val_loss: 0.2659\n",
            "Epoch 19/40\n",
            "500/500 [==============================] - 277s 554ms/step - loss: 0.2741 - val_loss: 0.2686\n",
            "Epoch 20/40\n",
            "500/500 [==============================] - 277s 554ms/step - loss: 0.2754 - val_loss: 0.2647\n",
            "Epoch 21/40\n",
            "500/500 [==============================] - 277s 554ms/step - loss: 0.2743 - val_loss: 0.2666\n",
            "Epoch 22/40\n",
            "500/500 [==============================] - 279s 558ms/step - loss: 0.2725 - val_loss: 0.2641\n",
            "Epoch 23/40\n",
            "500/500 [==============================] - 278s 556ms/step - loss: 0.2717 - val_loss: 0.2689\n",
            "Epoch 24/40\n",
            "500/500 [==============================] - 280s 559ms/step - loss: 0.2712 - val_loss: 0.2647\n",
            "Epoch 25/40\n",
            "500/500 [==============================] - 279s 559ms/step - loss: 0.2698 - val_loss: 0.2637\n",
            "Epoch 26/40\n",
            "500/500 [==============================] - 279s 557ms/step - loss: 0.2692 - val_loss: 0.2655\n",
            "Epoch 27/40\n",
            "500/500 [==============================] - 278s 556ms/step - loss: 0.2676 - val_loss: 0.2652\n",
            "Epoch 28/40\n",
            "500/500 [==============================] - 281s 562ms/step - loss: 0.2678 - val_loss: 0.2640\n",
            "Epoch 29/40\n",
            "500/500 [==============================] - 277s 554ms/step - loss: 0.2671 - val_loss: 0.2663\n",
            "Epoch 30/40\n",
            "500/500 [==============================] - 279s 558ms/step - loss: 0.2681 - val_loss: 0.2660\n",
            "Epoch 31/40\n",
            "500/500 [==============================] - 279s 557ms/step - loss: 0.2662 - val_loss: 0.2641\n",
            "Epoch 32/40\n",
            "500/500 [==============================] - 277s 554ms/step - loss: 0.2653 - val_loss: 0.2670\n",
            "Epoch 33/40\n",
            "500/500 [==============================] - 279s 557ms/step - loss: 0.2655 - val_loss: 0.2686\n",
            "Epoch 34/40\n",
            "500/500 [==============================] - 277s 555ms/step - loss: 0.2657 - val_loss: 0.2674\n",
            "Epoch 35/40\n",
            "500/500 [==============================] - 277s 555ms/step - loss: 0.2650 - val_loss: 0.2691\n",
            "Epoch 36/40\n",
            "500/500 [==============================] - 281s 561ms/step - loss: 0.2641 - val_loss: 0.2648\n",
            "Epoch 37/40\n",
            "500/500 [==============================] - 282s 564ms/step - loss: 0.2628 - val_loss: 0.2661\n",
            "Epoch 38/40\n",
            "500/500 [==============================] - 277s 553ms/step - loss: 0.2622 - val_loss: 0.2665\n",
            "Epoch 39/40\n",
            "500/500 [==============================] - 278s 555ms/step - loss: 0.2627 - val_loss: 0.2657\n",
            "Epoch 40/40\n",
            "500/500 [==============================] - 278s 556ms/step - loss: 0.2621 - val_loss: 0.2702\n"
          ]
        }
      ]
    },
    {
      "cell_type": "code",
      "metadata": {
        "id": "De7NkASN9aqL",
        "colab": {
          "base_uri": "https://localhost:8080/",
          "height": 281
        },
        "outputId": "7990d026-4869-497d-f559-f5a44c3cb391"
      },
      "source": [
        "loss = history.history['loss']\n",
        "val_loss = history.history['val_loss']\n",
        "\n",
        "epochs = range(len(loss))\n",
        "\n",
        "plt.figure()\n",
        "\n",
        "plt.plot(epochs, loss, 'bo', label='Training loss')\n",
        "plt.plot(epochs, val_loss, 'b', label='Validation loss')\n",
        "plt.title('Training and validation loss')\n",
        "plt.legend()\n",
        "\n",
        "plt.show()"
      ],
      "execution_count": 19,
      "outputs": [
        {
          "output_type": "display_data",
          "data": {
            "image/png": "[encoded data removed]",
            "text/plain": [
              "<Figure size 432x288 with 1 Axes>"
            ]
          },
          "metadata": {
            "needs_background": "light"
          }
        }
      ]
    },
    {
      "cell_type": "code",
      "metadata": {
        "id": "0-K71eVVm_yH"
      },
      "source": [
        "def reverse_order_generator(data, lookback, delay, min_index, max_index,\n",
        "                            shuffle=False, batch_size=128, step=6):\n",
        "    if max_index is None:\n",
        "        max_index = len(data) - delay - 1\n",
        "    i = min_index + lookback\n",
        "    while 1:\n",
        "        if shuffle:\n",
        "            rows = np.random.randint(\n",
        "                min_index + lookback, max_index, size=batch_size)\n",
        "        else:\n",
        "            if i + batch_size >= max_index:\n",
        "                i = min_index + lookback\n",
        "            rows = np.arange(i, min(i + batch_size, max_index))\n",
        "            i += len(rows)\n",
        "\n",
        "        samples = np.zeros((len(rows),\n",
        "                           lookback // step,\n",
        "                           data.shape[-1]))\n",
        "        targets = np.zeros((len(rows),))\n",
        "        for j, row in enumerate(rows):\n",
        "            indices = range(rows[j] - lookback, rows[j], step)\n",
        "            samples[j] = data[indices]\n",
        "            targets[j] = data[rows[j] + delay][1]\n",
        "        yield samples[:, ::-1, :], targets\n",
        "        \n",
        "train_gen_reverse = reverse_order_generator(\n",
        "    float_data,\n",
        "    lookback=lookback,\n",
        "    delay=delay,\n",
        "    min_index=0,\n",
        "    max_index=200000,\n",
        "    shuffle=True,\n",
        "    step=step, \n",
        "    batch_size=batch_size)\n",
        "val_gen_reverse = reverse_order_generator(\n",
        "    float_data,\n",
        "    lookback=lookback,\n",
        "    delay=delay,\n",
        "    min_index=200001,\n",
        "    max_index=300000,\n",
        "    step=step,\n",
        "    batch_size=batch_size)"
      ],
      "execution_count": 20,
      "outputs": []
    },
    {
      "cell_type": "code",
      "metadata": {
        "id": "LlLtAPV4PNsD",
        "colab": {
          "base_uri": "https://localhost:8080/"
        },
        "outputId": "13070ded-940e-481c-93b1-f84e6d751424"
      },
      "source": [
        "model = Sequential()\n",
        "model.add(layers.GRU(32, input_shape=(None, float_data.shape[-1])))\n",
        "model.add(layers.Dense(1))\n",
        "\n",
        "model.compile(optimizer=RMSprop(), loss='mae')\n",
        "history = model.fit_generator(train_gen_reverse,\n",
        "                              steps_per_epoch=500,\n",
        "                              epochs=20,\n",
        "                              validation_data=val_gen_reverse,\n",
        "                              validation_steps=val_steps)"
      ],
      "execution_count": 21,
      "outputs": [
        {
          "output_type": "stream",
          "name": "stdout",
          "text": [
            "WARNING:tensorflow:sample_weight modes were coerced from\n",
            "  ...\n",
            "    to  \n",
            "  ['...']\n",
            "WARNING:tensorflow:sample_weight modes were coerced from\n",
            "  ...\n",
            "    to  \n",
            "  ['...']\n",
            "Train for 500 steps, validate for 769 steps\n",
            "Epoch 1/20\n",
            "500/500 [==============================] - 35s 69ms/step - loss: 0.4808 - val_loss: 0.4816\n",
            "Epoch 2/20\n",
            "500/500 [==============================] - 33s 65ms/step - loss: 0.4515 - val_loss: 0.4749\n",
            "Epoch 3/20\n",
            "500/500 [==============================] - 33s 66ms/step - loss: 0.4059 - val_loss: 0.4555\n",
            "Epoch 4/20\n",
            "500/500 [==============================] - 33s 66ms/step - loss: 0.3617 - val_loss: 0.4256\n",
            "Epoch 5/20\n",
            "500/500 [==============================] - 33s 66ms/step - loss: 0.3382 - val_loss: 0.4411\n",
            "Epoch 6/20\n",
            "500/500 [==============================] - 33s 66ms/step - loss: 0.3209 - val_loss: 0.4385\n",
            "Epoch 7/20\n",
            "500/500 [==============================] - 33s 66ms/step - loss: 0.3058 - val_loss: 0.4270\n",
            "Epoch 8/20\n",
            "500/500 [==============================] - 33s 66ms/step - loss: 0.2889 - val_loss: 0.4058\n",
            "Epoch 9/20\n",
            "500/500 [==============================] - 33s 66ms/step - loss: 0.2805 - val_loss: 0.4070\n",
            "Epoch 10/20\n",
            "500/500 [==============================] - 33s 66ms/step - loss: 0.2719 - val_loss: 0.4033\n",
            "Epoch 11/20\n",
            "500/500 [==============================] - 33s 66ms/step - loss: 0.2635 - val_loss: 0.4193\n",
            "Epoch 12/20\n",
            "500/500 [==============================] - 33s 66ms/step - loss: 0.2549 - val_loss: 0.4170\n",
            "Epoch 13/20\n",
            "500/500 [==============================] - 33s 66ms/step - loss: 0.2515 - val_loss: 0.4133\n",
            "Epoch 14/20\n",
            "500/500 [==============================] - 33s 66ms/step - loss: 0.2458 - val_loss: 0.4107\n",
            "Epoch 15/20\n",
            "500/500 [==============================] - 33s 66ms/step - loss: 0.2419 - val_loss: 0.4025\n",
            "Epoch 16/20\n",
            "500/500 [==============================] - 33s 66ms/step - loss: 0.2375 - val_loss: 0.4063\n",
            "Epoch 17/20\n",
            "500/500 [==============================] - 33s 66ms/step - loss: 0.2350 - val_loss: 0.4062\n",
            "Epoch 18/20\n",
            "500/500 [==============================] - 33s 66ms/step - loss: 0.2325 - val_loss: 0.4114\n",
            "Epoch 19/20\n",
            "500/500 [==============================] - 33s 66ms/step - loss: 0.2275 - val_loss: 0.4161\n",
            "Epoch 20/20\n",
            "500/500 [==============================] - 33s 66ms/step - loss: 0.2242 - val_loss: 0.4053\n"
          ]
        }
      ]
    },
    {
      "cell_type": "code",
      "metadata": {
        "id": "L-hJQGmrPP6N",
        "colab": {
          "base_uri": "https://localhost:8080/",
          "height": 281
        },
        "outputId": "702af734-c653-417c-f449-2eed43b69cfc"
      },
      "source": [
        "loss = history.history['loss']\n",
        "val_loss = history.history['val_loss']\n",
        "\n",
        "epochs = range(len(loss))\n",
        "\n",
        "plt.figure()\n",
        "\n",
        "plt.plot(epochs, loss, 'bo', label='Training loss')\n",
        "plt.plot(epochs, val_loss, 'b', label='Validation loss')\n",
        "plt.title('Training and validation loss')\n",
        "plt.legend()\n",
        "\n",
        "plt.show()"
      ],
      "execution_count": 22,
      "outputs": [
        {
          "output_type": "display_data",
          "data": {
            "image/png": "[encoded data removed]",
            "text/plain": [
              "<Figure size 432x288 with 1 Axes>"
            ]
          },
          "metadata": {
            "needs_background": "light"
          }
        }
      ]
    },
    {
      "cell_type": "code",
      "metadata": {
        "id": "AaS5Z9_oPSho",
        "colab": {
          "base_uri": "https://localhost:8080/"
        },
        "outputId": "d51b7ddb-f9e7-4b55-a1db-2631f9fccdf9"
      },
      "source": [
        "from tensorflow.keras.datasets import imdb\n",
        "from tensorflow.keras.preprocessing import sequence\n",
        "from tensorflow.keras import layers\n",
        "from tensorflow.keras.models import Sequential\n",
        "\n",
        "# Number of words to consider as features\n",
        "max_features = 10000\n",
        "# Cut texts after this number of words (among top max_features most common words)\n",
        "maxlen = 500\n",
        "\n",
        "# Load data\n",
        "(x_train, y_train), (x_test, y_test) = imdb.load_data(num_words=max_features)\n",
        "\n",
        "# Reverse sequences\n",
        "x_train = [x[::-1] for x in x_train]\n",
        "x_test = [x[::-1] for x in x_test]\n",
        "\n",
        "# Pad sequences\n",
        "x_train = sequence.pad_sequences(x_train, maxlen=maxlen)\n",
        "x_test = sequence.pad_sequences(x_test, maxlen=maxlen)\n",
        "\n",
        "model = Sequential()\n",
        "model.add(layers.Embedding(max_features, 128))\n",
        "model.add(layers.LSTM(32))\n",
        "model.add(layers.Dense(1, activation='sigmoid'))\n",
        "\n",
        "model.compile(optimizer='rmsprop',\n",
        "              loss='binary_crossentropy',\n",
        "              metrics=['acc'])\n",
        "history = model.fit(x_train, y_train,\n",
        "                    epochs=10,\n",
        "                    batch_size=128,\n",
        "                    validation_split=0.2)"
      ],
      "execution_count": 23,
      "outputs": [
        {
          "output_type": "stream",
          "name": "stdout",
          "text": [
            "Downloading data from https://storage.googleapis.com/tensorflow/tf-keras-datasets/imdb.npz\n",
            "17465344/17464789 [==============================] - 0s 0us/step\n"
          ]
        },
        {
          "output_type": "stream",
          "name": "stderr",
          "text": [
            "/usr/local/lib/python3.7/dist-packages/tensorflow_core/python/keras/datasets/imdb.py:129: VisibleDeprecationWarning: Creating an ndarray from ragged nested sequences (which is a list-or-tuple of lists-or-tuples-or ndarrays with different lengths or shapes) is deprecated. If you meant to do this, you must specify 'dtype=object' when creating the ndarray\n",
            "  x_train, y_train = np.array(xs[:idx]), np.array(labels[:idx])\n",
            "/usr/local/lib/python3.7/dist-packages/tensorflow_core/python/keras/datasets/imdb.py:130: VisibleDeprecationWarning: Creating an ndarray from ragged nested sequences (which is a list-or-tuple of lists-or-tuples-or ndarrays with different lengths or shapes) is deprecated. If you meant to do this, you must specify 'dtype=object' when creating the ndarray\n",
            "  x_test, y_test = np.array(xs[idx:]), np.array(labels[idx:])\n"
          ]
        },
        {
          "output_type": "stream",
          "name": "stdout",
          "text": [
            "Train on 20000 samples, validate on 5000 samples\n",
            "Epoch 1/10\n",
            "20000/20000 [==============================] - 21s 1ms/sample - loss: 0.4988 - acc: 0.7571 - val_loss: 0.3916 - val_acc: 0.8440\n",
            "Epoch 2/10\n",
            "20000/20000 [==============================] - 17s 874us/sample - loss: 0.3139 - acc: 0.8791 - val_loss: 0.3480 - val_acc: 0.8550\n",
            "Epoch 3/10\n",
            "20000/20000 [==============================] - 17s 873us/sample - loss: 0.2905 - acc: 0.8985 - val_loss: 0.3106 - val_acc: 0.8808\n",
            "Epoch 4/10\n",
            "20000/20000 [==============================] - 17s 874us/sample - loss: 0.2242 - acc: 0.9204 - val_loss: 0.3486 - val_acc: 0.8530\n",
            "Epoch 5/10\n",
            "20000/20000 [==============================] - 18s 876us/sample - loss: 0.2043 - acc: 0.9301 - val_loss: 0.3868 - val_acc: 0.8424\n",
            "Epoch 6/10\n",
            "20000/20000 [==============================] - 17s 870us/sample - loss: 0.1791 - acc: 0.9390 - val_loss: 0.8666 - val_acc: 0.7912\n",
            "Epoch 7/10\n",
            "20000/20000 [==============================] - 18s 899us/sample - loss: 0.1660 - acc: 0.9420 - val_loss: 0.3581 - val_acc: 0.8772\n",
            "Epoch 8/10\n",
            "20000/20000 [==============================] - 18s 898us/sample - loss: 0.1511 - acc: 0.9472 - val_loss: 0.3804 - val_acc: 0.8526\n",
            "Epoch 9/10\n",
            "20000/20000 [==============================] - 18s 896us/sample - loss: 0.1372 - acc: 0.9535 - val_loss: 0.3766 - val_acc: 0.8522\n",
            "Epoch 10/10\n",
            "20000/20000 [==============================] - 18s 885us/sample - loss: 0.1473 - acc: 0.9531 - val_loss: 0.4200 - val_acc: 0.8638\n"
          ]
        }
      ]
    },
    {
      "cell_type": "code",
      "metadata": {
        "id": "zH5phRsLPVpV"
      },
      "source": [
        "from tensorflow.keras import backend as K\n",
        "K.clear_session()"
      ],
      "execution_count": 24,
      "outputs": []
    },
    {
      "cell_type": "code",
      "metadata": {
        "id": "UmehZ9uZPZXh",
        "colab": {
          "base_uri": "https://localhost:8080/"
        },
        "outputId": "91097566-2a40-4ab7-ee1b-22dbffbb51f2"
      },
      "source": [
        "model = Sequential()\n",
        "model.add(layers.Embedding(max_features, 32))\n",
        "model.add(layers.Bidirectional(layers.LSTM(32)))\n",
        "model.add(layers.Dense(1, activation='sigmoid'))\n",
        "\n",
        "model.compile(optimizer='rmsprop', loss='binary_crossentropy', metrics=['acc'])\n",
        "history = model.fit(x_train, y_train, epochs=10, batch_size=128, validation_split=0.2)"
      ],
      "execution_count": 25,
      "outputs": [
        {
          "output_type": "stream",
          "name": "stdout",
          "text": [
            "Train on 20000 samples, validate on 5000 samples\n",
            "Epoch 1/10\n",
            "20000/20000 [==============================] - 34s 2ms/sample - loss: 0.5909 - acc: 0.6981 - val_loss: 0.3961 - val_acc: 0.8562\n",
            "Epoch 2/10\n",
            "20000/20000 [==============================] - 30s 2ms/sample - loss: 0.3680 - acc: 0.8587 - val_loss: 0.5130 - val_acc: 0.8160\n",
            "Epoch 3/10\n",
            "20000/20000 [==============================] - 30s 2ms/sample - loss: 0.2788 - acc: 0.8972 - val_loss: 0.3141 - val_acc: 0.8726\n",
            "Epoch 4/10\n",
            "20000/20000 [==============================] - 30s 2ms/sample - loss: 0.2373 - acc: 0.9157 - val_loss: 0.4851 - val_acc: 0.7914\n",
            "Epoch 5/10\n",
            "20000/20000 [==============================] - 31s 2ms/sample - loss: 0.2082 - acc: 0.9261 - val_loss: 0.3070 - val_acc: 0.8816\n",
            "Epoch 6/10\n",
            "20000/20000 [==============================] - 31s 2ms/sample - loss: 0.1782 - acc: 0.9404 - val_loss: 0.3338 - val_acc: 0.8662\n",
            "Epoch 7/10\n",
            "20000/20000 [==============================] - 31s 2ms/sample - loss: 0.1690 - acc: 0.9430 - val_loss: 0.3362 - val_acc: 0.8754\n",
            "Epoch 8/10\n",
            "20000/20000 [==============================] - 31s 2ms/sample - loss: 0.1478 - acc: 0.9504 - val_loss: 0.3386 - val_acc: 0.8780\n",
            "Epoch 9/10\n",
            "20000/20000 [==============================] - 30s 2ms/sample - loss: 0.1324 - acc: 0.9550 - val_loss: 0.3652 - val_acc: 0.8846\n",
            "Epoch 10/10\n",
            "20000/20000 [==============================] - 31s 2ms/sample - loss: 0.1297 - acc: 0.9562 - val_loss: 0.8484 - val_acc: 0.7932\n"
          ]
        }
      ]
    },
    {
      "cell_type": "code",
      "metadata": {
        "id": "jLIJLQqIPcBI",
        "colab": {
          "base_uri": "https://localhost:8080/"
        },
        "outputId": "4c544fa7-b3aa-4596-ae16-32df71b0da8e"
      },
      "source": [
        "from tensorflow.keras.models import Sequential\n",
        "from tensorflow.keras import layers\n",
        "from tensorflow.keras.optimizers import RMSprop\n",
        "\n",
        "model = Sequential()\n",
        "model.add(layers.Bidirectional(\n",
        "    layers.GRU(32), input_shape=(None, float_data.shape[-1])))\n",
        "model.add(layers.Dense(1))\n",
        "\n",
        "model.compile(optimizer=RMSprop(), loss='mae')\n",
        "history = model.fit_generator(train_gen,\n",
        "                              steps_per_epoch=500,\n",
        "                              epochs=40,\n",
        "                              validation_data=val_gen,\n",
        "                              validation_steps=val_steps)"
      ],
      "execution_count": 26,
      "outputs": [
        {
          "output_type": "stream",
          "name": "stdout",
          "text": [
            "WARNING:tensorflow:sample_weight modes were coerced from\n",
            "  ...\n",
            "    to  \n",
            "  ['...']\n",
            "WARNING:tensorflow:sample_weight modes were coerced from\n",
            "  ...\n",
            "    to  \n",
            "  ['...']\n",
            "Train for 500 steps, validate for 769 steps\n",
            "Epoch 1/40\n",
            "500/500 [==============================] - 71s 142ms/step - loss: 0.2927 - val_loss: 0.2707\n",
            "Epoch 2/40\n",
            "500/500 [==============================] - 68s 136ms/step - loss: 0.2759 - val_loss: 0.2636\n",
            "Epoch 3/40\n",
            "500/500 [==============================] - 68s 136ms/step - loss: 0.2701 - val_loss: 0.2630\n",
            "Epoch 4/40\n",
            "500/500 [==============================] - 68s 136ms/step - loss: 0.2639 - val_loss: 0.2651\n",
            "Epoch 5/40\n",
            "500/500 [==============================] - 68s 136ms/step - loss: 0.2577 - val_loss: 0.2654\n",
            "Epoch 6/40\n",
            "500/500 [==============================] - 68s 136ms/step - loss: 0.2538 - val_loss: 0.2639\n",
            "Epoch 7/40\n",
            "500/500 [==============================] - 68s 136ms/step - loss: 0.2473 - val_loss: 0.2639\n",
            "Epoch 8/40\n",
            "500/500 [==============================] - 68s 136ms/step - loss: 0.2404 - val_loss: 0.2690\n",
            "Epoch 9/40\n",
            "500/500 [==============================] - 68s 137ms/step - loss: 0.2356 - val_loss: 0.2801\n",
            "Epoch 10/40\n",
            "500/500 [==============================] - 68s 136ms/step - loss: 0.2297 - val_loss: 0.2767\n",
            "Epoch 11/40\n",
            "500/500 [==============================] - 68s 136ms/step - loss: 0.2248 - val_loss: 0.2804\n",
            "Epoch 12/40\n",
            "500/500 [==============================] - 68s 136ms/step - loss: 0.2175 - val_loss: 0.2927\n",
            "Epoch 13/40\n",
            "500/500 [==============================] - 68s 136ms/step - loss: 0.2098 - val_loss: 0.2976\n",
            "Epoch 14/40\n",
            "500/500 [==============================] - 68s 136ms/step - loss: 0.2053 - val_loss: 0.2928\n",
            "Epoch 15/40\n",
            "500/500 [==============================] - 68s 136ms/step - loss: 0.2003 - val_loss: 0.2987\n",
            "Epoch 16/40\n",
            "500/500 [==============================] - 68s 136ms/step - loss: 0.1963 - val_loss: 0.2996\n",
            "Epoch 17/40\n",
            "500/500 [==============================] - 68s 137ms/step - loss: 0.1913 - val_loss: 0.3039\n",
            "Epoch 18/40\n",
            "500/500 [==============================] - 68s 137ms/step - loss: 0.1850 - val_loss: 0.3038\n",
            "Epoch 19/40\n",
            "500/500 [==============================] - 68s 136ms/step - loss: 0.1819 - val_loss: 0.3065\n",
            "Epoch 20/40\n",
            "500/500 [==============================] - 68s 136ms/step - loss: 0.1762 - val_loss: 0.3117\n",
            "Epoch 21/40\n",
            "500/500 [==============================] - 68s 137ms/step - loss: 0.1725 - val_loss: 0.3124\n",
            "Epoch 22/40\n",
            "500/500 [==============================] - 68s 136ms/step - loss: 0.1701 - val_loss: 0.3162\n",
            "Epoch 23/40\n",
            "500/500 [==============================] - 68s 136ms/step - loss: 0.1670 - val_loss: 0.3178\n",
            "Epoch 24/40\n",
            "500/500 [==============================] - 68s 136ms/step - loss: 0.1641 - val_loss: 0.3163\n",
            "Epoch 25/40\n",
            "500/500 [==============================] - 68s 136ms/step - loss: 0.1607 - val_loss: 0.3233\n",
            "Epoch 26/40\n",
            "500/500 [==============================] - 68s 137ms/step - loss: 0.1588 - val_loss: 0.3259\n",
            "Epoch 27/40\n",
            "500/500 [==============================] - 68s 136ms/step - loss: 0.1571 - val_loss: 0.3256\n",
            "Epoch 28/40\n",
            "500/500 [==============================] - 68s 136ms/step - loss: 0.1533 - val_loss: 0.3314\n",
            "Epoch 29/40\n",
            "500/500 [==============================] - 68s 136ms/step - loss: 0.1516 - val_loss: 0.3260\n",
            "Epoch 30/40\n",
            "500/500 [==============================] - 68s 136ms/step - loss: 0.1502 - val_loss: 0.3330\n",
            "Epoch 31/40\n",
            "500/500 [==============================] - 68s 136ms/step - loss: 0.1475 - val_loss: 0.3318\n",
            "Epoch 32/40\n",
            "500/500 [==============================] - 68s 137ms/step - loss: 0.1466 - val_loss: 0.3319\n",
            "Epoch 33/40\n",
            "500/500 [==============================] - 68s 136ms/step - loss: 0.1445 - val_loss: 0.3293\n",
            "Epoch 34/40\n",
            "500/500 [==============================] - 68s 136ms/step - loss: 0.1433 - val_loss: 0.3405\n",
            "Epoch 35/40\n",
            "500/500 [==============================] - 68s 136ms/step - loss: 0.1418 - val_loss: 0.3301\n",
            "Epoch 36/40\n",
            "500/500 [==============================] - 68s 136ms/step - loss: 0.1390 - val_loss: 0.3369\n",
            "Epoch 37/40\n",
            "500/500 [==============================] - 68s 136ms/step - loss: 0.1389 - val_loss: 0.3360\n",
            "Epoch 38/40\n",
            "500/500 [==============================] - 68s 136ms/step - loss: 0.1378 - val_loss: 0.3336\n",
            "Epoch 39/40\n",
            "500/500 [==============================] - 68s 137ms/step - loss: 0.1358 - val_loss: 0.3361\n",
            "Epoch 40/40\n",
            "500/500 [==============================] - 68s 136ms/step - loss: 0.1348 - val_loss: 0.3362\n"
          ]
        }
      ]
    },
    {
      "cell_type": "code",
      "metadata": {
        "id": "4FtpJQ09Pfm_"
      },
      "source": [
        ""
      ],
      "execution_count": 26,
      "outputs": []
    }
  ]
}